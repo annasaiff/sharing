{
 "cells": [
  {
   "cell_type": "markdown",
   "metadata": {},
   "source": [
    "# Part 1"
   ]
  },
  {
   "cell_type": "code",
   "execution_count": 1,
   "metadata": {},
   "outputs": [],
   "source": [
    "#datapreprocessing\n",
    "import pandas as pd\n",
    "import numpy as np \n",
    "dir = 'C:\\\\Users\\\\acer\\\\.jupyter'\n",
    "with open('field_names.txt', \"r\") as f:\n",
    "    field = f.read()\n",
    "   \n",
    "data = pd.read_csv(dir+ '\\\\breastcancer.csv', names=list(field.split()))\n",
    "\n",
    "data= data.iloc[:,1:32]   # Removing the ID column\n",
    "\n",
    "X=data.iloc[:,1:32].values\n",
    "Y=data.iloc[:,0].values\n",
    "\n"
   ]
  },
  {
   "cell_type": "code",
   "execution_count": 2,
   "metadata": {},
   "outputs": [],
   "source": [
    "#Computing the mean and median smoothness and compactness for benign and malignant tumors\n",
    "smoothness_m=[]         \n",
    "compactness_m=[]        \n",
    "concave_pt_m=[]\n",
    "peri_m=[]\n",
    "concave_pt_b=[]\n",
    "peri_b=[]\n",
    "smoothness_b=[]\n",
    "compactness_b=[]\n",
    "\n",
    "for i in range(len(Y)):\n",
    "    a1=X[i,12]\n",
    "    a2=X[i,15]\n",
    "    a3=X[i,6]\n",
    "    a4=X[i,21]\n",
    "    if Y[i]=='M':  \n",
    "     smoothness_m.append(a1)\n",
    "     compactness_m.append(a2)\n",
    "     peri_m.append(a3)\n",
    "     concave_pt_m.append(a4)\n",
    "    else:\n",
    "        smoothness_b.append(a1)\n",
    "        compactness_b.append(a2)\n",
    "        peri_b.append(a3)\n",
    "        concave_pt_b.append(a4)\n",
    "        \n",
    "        \n",
    "# mean smoothness for benign and malignant tumors        \n",
    "import statistics as st\n",
    "smean_b=st.mean(smoothness_b)      #smoothness\n",
    "smean_m=st.mean(smoothness_m)\n",
    "smedian_b=st.median(smoothness_b)\n",
    "smedian_m=st.median(smoothness_m)\n",
    "\n",
    "cmean_b=st.mean(compactness_b)      #compactness\n",
    "cmean_m=st.mean(compactness_m)\n",
    "cmedian_b=st.median(compactness_b)\n",
    "cmedian_m=st.median(compactness_m)\n",
    "\n",
    "\n",
    "#The mean and median smoothness and compactness for benign and malignant tumors differs. \n",
    "\n",
    "#Benign Tumors\n",
    "#smoothness mean=2.003              #compactness mean=0.021\n",
    "#smoothness median=1.851            #compactness median=0.016\n",
    "\n",
    "#Malignant tumors\n",
    "#smoothness mean=4.32              #compactness mean=0.032\n",
    "#smoothness median=3.67            #compactness median=0.028\n",
    "\n",
    "\n",
    "\n"
   ]
  },
  {
   "cell_type": "code",
   "execution_count": 6,
   "metadata": {},
   "outputs": [
    {
     "data": {
      "text/plain": [
       "Text(0,0.5,'Count')"
      ]
     },
     "execution_count": 6,
     "metadata": {},
     "output_type": "execute_result"
    },
    {
     "data": {
      "image/png": "[encoded data removed]",
      "text/plain": [
       "<matplotlib.figure.Figure at 0x237e0cf6c88>"
      ]
     },
     "metadata": {},
     "output_type": "display_data"
    }
   ],
   "source": [
    "# Exploratory Analysis - 2 variables that are predictive of a malignant tumor\n",
    "#Perimeter mean and Concavity mean\n",
    "#Perimeter mean Visual display for  benign and malignant tumors\n",
    "import matplotlib.pyplot as plt\n",
    "plt.hist(peri_m)\n",
    "plt.hist(peri_b, color='g')\n",
    "plt.xlabel('Value')\n",
    "plt.ylabel('Count')\n",
    "\n",
    "\n",
    "# Explaining the Relationship \n",
    "# From the histogram, it can be seen that larger values of perimeter mean correspond to malignant tumors and majority\n",
    "# of the beingn tumors have small permiter mean. "
   ]
  },
  {
   "cell_type": "code",
   "execution_count": 5,
   "metadata": {},
   "outputs": [
    {
     "data": {
      "text/plain": [
       "Text(0,0.5,'Count')"
      ]
     },
     "execution_count": 5,
     "metadata": {},
     "output_type": "execute_result"
    },
    {
     "data": {
      "image/png": "[encoded data removed]",
      "text/plain": [
       "<matplotlib.figure.Figure at 0x237de33c6d8>"
      ]
     },
     "metadata": {},
     "output_type": "display_data"
    }
   ],
   "source": [
    "#Exploratory Analysis - continued\n",
    "# Concavity mean Visual display for  benign and malignant tumors\n",
    "plt.hist(concave_pt_b,color='g')\n",
    "plt.hist(concave_pt_m)\n",
    "plt.xlabel('Value')\n",
    "plt.ylabel('Count')\n",
    "\n",
    "# Explaining the Relationship \n",
    "# From the histogram, it can be seen that majority of the malignant tumors have a large concavity mean and majority\n",
    "# of the beingn tumors have a small concavity mean. Hence large values of perimeter mean and concavity mean clearly predicts\n",
    "# that the the tumor is malignant."
   ]
  },
  {
   "cell_type": "markdown",
   "metadata": {},
   "source": []
  },
  {
   "cell_type": "code",
   "execution_count": 8,
   "metadata": {},
   "outputs": [],
   "source": [
    "# Modelling \n",
    "# Model 1 - SVM \n",
    "\n",
    "#Encoding categorical data\n",
    "from sklearn.preprocessing import LabelEncoder\n",
    "labelencoder_Y=LabelEncoder()\n",
    "Y=labelencoder_Y.fit_transform(Y)\n",
    "\n",
    "# Splitting the dataset\n",
    "from sklearn.model_selection import train_test_split\n",
    "X_train,X_test,y_train,y_test=train_test_split(X,Y,test_size=0.2,random_state=0)\n",
    "\n",
    "#Feature scaling\n",
    "from sklearn.preprocessing import StandardScaler\n",
    "sc_X=StandardScaler()\n",
    "X_train=sc_X.fit_transform(X_train)\n",
    "X_test=sc_X.transform(X_test)\n",
    "\n",
    "\n",
    "#Classification technique\n",
    "#SVM \n",
    "from sklearn.svm import SVC\n",
    "classifier=SVC( C=1,random_state=0)\n",
    "\n",
    "# Grid search approach to find the best parameters in order to avoid over fiiting\n",
    "from sklearn.model_selection import GridSearchCV\n",
    "# List of dictionaries\n",
    "parameters =[{'C':[1,10,100,1000],'kernel':['linear']},\n",
    "             {'C':[1,10,100,1000],'kernel':['rbf'],'gamma':[0.5,0.1,0.01,0.001,0.0001]} ]  \n",
    "grid_search=GridSearchCV(estimator=classifier,\n",
    "                         param_grid=parameters,scoring='accuracy',cv=10,n_jobs=-1)\n",
    "grid_search=grid_search.fit(X_train,y_train)\n",
    "best_accuracy=grid_search.best_score_\n",
    "best_parameters=grid_search.best_params_\n",
    "\n"
   ]
  },
  {
   "cell_type": "code",
   "execution_count": null,
   "metadata": {},
   "outputs": [],
   "source": []
  },
  {
   "cell_type": "code",
   "execution_count": 12,
   "metadata": {},
   "outputs": [
    {
     "data": {
      "text/plain": [
       "array([[67,  0],\n",
       "       [ 2, 45]], dtype=int64)"
      ]
     },
     "execution_count": 12,
     "metadata": {},
     "output_type": "execute_result"
    }
   ],
   "source": [
    "from sklearn.svm import SVC\n",
    "classifier=SVC( C=1,random_state=0)\n",
    "classifier.fit(X_train,y_train)\n",
    "\n",
    "\n",
    "# Evaluating the performance of the classifier - Using k-fold CV to avoid overfitting\n",
    "from sklearn.model_selection import cross_val_score\n",
    "accuracies=cross_val_score(estimator=classifier,X=X_train,y=y_train,cv=10)\n",
    "accuracies.mean()\n",
    "accuracies.std()\n",
    "\n",
    "# Evaluating the output results\n",
    "y_pred=classifier.predict(X_test)\n",
    "\n",
    "from sklearn.metrics import confusion_matrix\n",
    "cm=confusion_matrix(y_test,y_pred)\n",
    "\n"
   ]
  },
  {
   "cell_type": "code",
   "execution_count": 10,
   "metadata": {},
   "outputs": [],
   "source": [
    "# Modelling \n",
    "# Model 2 - Random forest\n",
    "#Encoding categorical data\n",
    "from sklearn.preprocessing import LabelEncoder\n",
    "labelencoder_Y=LabelEncoder()\n",
    "Y=labelencoder_Y.fit_transform(Y)\n",
    "\n",
    "# Splitting the dataset\n",
    "from sklearn.model_selection import train_test_split\n",
    "X_train,X_test,y_train,y_test=train_test_split(X,Y,test_size=0.2,random_state=0)\n",
    "\n",
    "#Feature scaling\n",
    "from sklearn.preprocessing import StandardScaler\n",
    "sc_X=StandardScaler()\n",
    "X_train=sc_X.fit_transform(X_train)\n",
    "X_test=sc_X.transform(X_test)\n",
    "\n",
    "#Classification technique\n",
    "#Random Forest\n",
    "\n",
    "from sklearn.ensemble import RandomForestClassifier\n",
    "from sklearn.model_selection import cross_val_score\n",
    "n_range=range(1,100)\n",
    "n_scores=[]\n",
    "for n in n_range:\n",
    "    classifier=RandomForestClassifier(n_estimators=n, criterion='entropy', random_state=0)\n",
    "    accuracies_1=cross_val_score(classifier,X_train,y_train,cv=10,scoring='accuracy')\n",
    "    n_scores.append(accuracies_1.mean())\n",
    "    \n",
    "# Fitting Random Forest Classification to the training set\n",
    "from sklearn.ensemble import RandomForestClassifier\n",
    "classifier=RandomForestClassifier(n_estimators=66, criterion='entropy', random_state=0)\n",
    "classifier.fit(X_train,y_train)\n",
    "\n",
    "# Evaluating models performance\n",
    "from sklearn.model_selection import cross_val_score\n",
    "accuracies=cross_val_score(estimator=classifier,X=X_train,y=y_train,cv=10)\n",
    "accuracies.mean()\n",
    "accuracies.std()\n",
    "\n",
    "# Predicting the test results\n",
    "y_pred=classifier.predict(X_test)\n",
    "\n",
    "# Making the confusion matrix\n",
    "from sklearn.metrics import confusion_matrix\n",
    "cm=confusion_matrix(y_test,y_pred)\n",
    "\n",
    "\n"
   ]
  },
  {
   "cell_type": "raw",
   "metadata": {},
   "source": [
    "compare and contrast the advantages and disadvantages of each.\n",
    "Adv of SVM\n",
    "1. SVM is effective in high dimensional spaces \n",
    "2. memory effecient.\n",
    "\n",
    "Disadvantage of SVM\n",
    "3. Overfitting can occur in SVM when the number of features is greater than the number of samples.\n",
    "\n",
    "Adv of RF\n",
    "4. Random forest can also handle complex data with higher dimensions.\n",
    "5. Random forests achieves high accuracy.\n",
    "6. Unlike SVM, Random forests requires no feature scaling.\n",
    "\n",
    "Disadvantages of RF\n",
    "7. Like SVM, it is also prone to overfitting.\n",
    "8. Random forests is not interpretable."
   ]
  },
  {
   "cell_type": "raw",
   "metadata": {},
   "source": [
    "control for overfitting in each classification technique.\n",
    "\n",
    "In SVM \n",
    "1. More data reduces the chances of overfitting.\n",
    "2. K fold cross validation (CV) approach is effective aganist overfitting. Through k - flod CV we can evaluate the models performance by evaluating the accuracy scores for each validation set. If the the accuracy scores widely vary for each validation set then this indicates that the model is overfitted and will not generalize well to the new data.\n",
    "3. Using the grid search approach in python code to optimize the hyperparameters - 'C' and gamma (for RBF kernel)\n",
    "\n",
    "In RF\n",
    "\n",
    "1. More data reduces the chances of overfitting.\n",
    "2. K fold cross validation (CV) approach is effective aganist overfitting. Through k - flod CV we can evaluate the models performance by evaluating the accuracy scores for each validation set. If the the accuracy scores widely vary for each validation set then this indicates that the model is overfitted and will not generalize well to the new data.\n",
    "3. Using the grid search approach in python code to optimize the number of n_estimators (more trees - less overfit)\n",
    "\n",
    "\n",
    "\n"
   ]
  },
  {
   "cell_type": "raw",
   "metadata": {},
   "source": [
    "In Python code the most predictive variables can be obtained from the sklearn package shown below. "
   ]
  },
  {
   "cell_type": "code",
   "execution_count": null,
   "metadata": {},
   "outputs": [],
   "source": [
    "from sklearn.feature_selection import SelectFromModel\n",
    "\n",
    "sel = SelectFromModel(RandomForestClassifier(n_estimators = 100))\n",
    "sel.fit(X_train, y_train)\n",
    "sel.get_support()\n",
    "selected_feat= X_train.columns[(sel.get_support())]\n",
    "len(selected_feat)\n"
   ]
  },
  {
   "cell_type": "raw",
   "metadata": {},
   "source": [
    "Explanation - to technical audiences\n",
    "Satisfactory accuracy scores were obtained for both the machine learning model. However processing time was long when using the grid search approach to find the optimum model, that is, training time was long. In order to reduce the training period and simplify the model, we can reduce the number of features by retaining only those that have the maximum weight.\n",
    "PCA can be used to have a better insight in  exploratory data analysis and for making better predictive models. Also, we can gather more data in order to make the model robust.\n",
    "\n",
    "\n",
    "To Non-Technical Audiences\n",
    "\n",
    "The first task is prepare yor data well. Once the the data is prepared well in the data - preprocessing step,the machine learning model can be applied.\n",
    "\n",
    " first, the grid search approach is used in order to find the optimum model by optimizing the hyperparameters( the parameters that are learned) . THe parameters obtained in this step are used to define the classifier model. THe classifier model is then applied to the training data (which is 80% of the dataset provided). The pefromance of the model is once again evaluated using the k fold CV approach. The test set (20% of the dataset) is evaluated with the help of confusion matrix. It is important to visulize confusion matrix to ensure there is no accuracy paradox. \n",
    " \n",
    " \n",
    "The factors responsible for tumor identification are the\n",
    "1. Data is pre-processed. Well processes data simplies it and the model is well learned and well built.\n",
    "2. highly weighed features like area mean, perimeter mean, concavity mean. \n",
    "From the histogram plotted above, majority of the malignant tumors had large values of perimeter mean and concavity mean and majority of the benign tumors had small values of perimeter mean and concavity mean. This clearly states that high values of perimeter and concavity mean are predictive of malignant tumors and small values of benign tumors.\n",
    "\n",
    "3. Model optimized well . Hence No Overfitting.\n",
    " \n",
    "\n",
    "\n",
    "\n"
   ]
  },
  {
   "cell_type": "markdown",
   "metadata": {},
   "source": [
    "# PART2"
   ]
  },
  {
   "cell_type": "raw",
   "metadata": {},
   "source": [
    "Studentsample1\n",
    "line 5 - Imort class using - \"from sklearn.linear_model import LinearRegression\"\n",
    "line 6 - Since the module will be removed, a better way to import is - \"from sklearn.model_selection import cross_val_score\"\n",
    "line 9 - d is not clear, assign it to a word for better interpretability, for example, \"data\"\n",
    "line 17 - Set the necessary parameters in the bracket to change the default if required.\n",
    "line 20 - Imported \"cross_val_score\" twice.\n",
    "line -21 - Use sklearn.model_selection..\n",
    "line 22 - In the parantheses,x2 to y (y=x2), cv should be minimum 3 for small datasets. A good practise is to keep cv=10. With cv=1, the learned model cannot be evaluated to find out whether the model will perform well on the new(unseen) observations.\n",
    "\n",
    "Studentsample2\n",
    "\n",
    "line 6-Since the module will be removed, a better way to import is - \"from sklearn.model_selection import cross_val_score\"\n",
    "line 12 - Use the variable X for independent variables, the variable y for the dependent variable (the output).\n",
    "line 17 - Set the necessary parameters in the bracket to change the default if required.\n",
    "line 20 - Problem would be regarding the variables X and y - Use the variable X for independent variables, the variable y for the dependent variable.\n",
    "\n",
    "\n",
    "\n",
    "At the preprocessing stage, the students should remove the ID column to simplify the model since the ID  column does not effect the dependent variable. Keep CV=10 since the it is a large dataset to avoid overfitting.\n",
    "To reduce the number of features and thus to simplify the model, use PCA or LDA.\n",
    "Can use the argument n_jobs, to reduce the running time of the code.\n",
    "\n",
    "\n",
    "\n",
    "\n",
    "\n",
    "\n",
    "\n",
    "\n",
    "\n",
    "\n"
   ]
  }
 ],
 "metadata": {
  "kernelspec": {
   "display_name": "Python 3",
   "language": "python",
   "name": "python3"
  },
  "language_info": {
   "codemirror_mode": {
    "name": "ipython",
    "version": 3
   },
   "file_extension": ".py",
   "mimetype": "text/x-python",
   "name": "python",
   "nbconvert_exporter": "python",
   "pygments_lexer": "ipython3",
   "version": "3.6.4"
  }
 },
 "nbformat": 4,
 "nbformat_minor": 2
}
